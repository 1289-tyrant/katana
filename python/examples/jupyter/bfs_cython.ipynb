{
 "cells": [
  {
   "cell_type": "code",
   "execution_count": 1,
   "metadata": {},
   "outputs": [],
   "source": [
    "%load_ext cython"
   ]
  },
  {
   "cell_type": "code",
   "execution_count": 2,
   "metadata": {},
   "outputs": [],
   "source": [
    "from galois.shmem import *\n",
    "from galois.graphs import *"
   ]
  },
  {
   "cell_type": "code",
   "execution_count": 3,
   "metadata": {},
   "outputs": [
    {
     "name": "stdout",
     "output_type": "stream",
     "text": [
      "16\n"
     ]
    }
   ],
   "source": [
    "print(setActiveThreads(16))"
   ]
  },
  {
   "cell_type": "markdown",
   "metadata": {},
   "source": [
    "## Load some graph data"
   ]
  },
  {
   "cell_type": "code",
   "execution_count": 4,
   "metadata": {},
   "outputs": [
    {
     "name": "stdout",
     "output_type": "stream",
     "text": [
      "<galois.graphs.LC_CSR_Graph_Directed_uint32_t_void object at 0x7f31d01da0c0> 7414866\n"
     ]
    }
   ],
   "source": [
    "g = LC_CSR_Graph_Directed_primitive[\"uint32_t\", \"void\"]() \n",
    "# g.readGraphFromGRFile(\"../katana-build/inputs/reference/structured/rome99.cgr\")\n",
    "g.readGraphFromGRFile(\"/home/amp/Downloads/indochina-2004.csgr\")\n",
    "print(g, len(g))"
   ]
  },
  {
   "cell_type": "markdown",
   "metadata": {},
   "source": [
    "## An inline implementation of BFS"
   ]
  },
  {
   "cell_type": "code",
   "execution_count": 5,
   "metadata": {},
   "outputs": [],
   "source": [
    "%%cython\n",
    "# distutils: extra_link_args=[\"-lgalois_shmem\"]\n",
    "\n",
    "from galois.graphs cimport *\n",
    "\n",
    "ctypedef LC_CSR_Graph[uint32_t, void, dummy_true] Graph_CSR\n",
    "ctypedef LC_CSR_Graph[uint32_t, void, dummy_true].GraphNode GNodeCSR\n",
    "\n",
    "\n",
    "cdef void operator(Graph_CSR *g, GNodeCSR n) nogil:\n",
    "    d = &g.getData(n)\n",
    "    d[0] = g.size()\n",
    "\n",
    "\n",
    "def initialize_for_bfs(LC_CSR_Graph_Directed_uint32_t_void graph):\n",
    "    g = &graph.underlying\n",
    "    with nogil:\n",
    "        do_all(iterate(g[0]), bind_leading(operator, g))\n",
    "        \n",
    "#\n",
    "# BFS sync operator to be executed on each Graph node\n",
    "#\n",
    "cdef void bfs_sync_operator(Graph_CSR *g, InsertBag[GNodeCSR] *next, int nextLevel, GNodeCSR n) nogil:\n",
    "    numNodes = g[0].size()\n",
    "    src_data = &g[0].getData(n)\n",
    "    edges = g.edges(n)\n",
    "    for ii in edges:\n",
    "        dst = g.getEdgeDst(ii)\n",
    "        dst_data = &g.getData(dst)\n",
    "        if dst_data[0] == numNodes:\n",
    "            dst_data[0] = nextLevel\n",
    "            next.push(dst)\n",
    "\n",
    "def bfs_sync(LC_CSR_Graph_Directed_uint32_t_void graph, int source):\n",
    "    cdef:\n",
    "        Timer T\n",
    "        InsertBag[GNodeCSR] curr, next\n",
    "        uint32_t nextLevel = 0;\n",
    "    next.push(<GNodeCSR>source)\n",
    "    graph.setData(source, 0)\n",
    "    T.start()\n",
    "    with nogil:\n",
    "        while not next.empty():\n",
    "            curr.swap(next)\n",
    "            next.clear()\n",
    "            nextLevel += 1\n",
    "            do_all(iterate(curr),\n",
    "                     bind_leading(&bfs_sync_operator, &graph.underlying, &next, nextLevel), no_pushes(), steal(),\n",
    "                     loopname(\"bfs_sync\"))\n",
    "    T.stop()"
   ]
  },
  {
   "cell_type": "code",
   "execution_count": 6,
   "metadata": {
    "scrolled": false
   },
   "outputs": [],
   "source": [
    "initialize_for_bfs(g)\n",
    "bfs_sync(g, 0)"
   ]
  },
  {
   "cell_type": "code",
   "execution_count": 7,
   "metadata": {},
   "outputs": [
    {
     "name": "stdout",
     "output_type": "stream",
     "text": [
      "[0, 1, 1, 1, 1, 1, 2, 1, 4, 3, 4, 4, 4, 4, 4, 4, 4, 4, 4, 4]\n"
     ]
    }
   ],
   "source": [
    "print([g.getData(i) for i in range(20)])"
   ]
  }
 ],
 "metadata": {
  "kernelspec": {
   "display_name": "Python 3",
   "language": "python",
   "name": "python3"
  },
  "language_info": {
   "codemirror_mode": {
    "name": "ipython",
    "version": 3
   },
   "file_extension": ".py",
   "mimetype": "text/x-python",
   "name": "python",
   "nbconvert_exporter": "python",
   "pygments_lexer": "ipython3",
   "version": "3.7.5"
  }
 },
 "nbformat": 4,
 "nbformat_minor": 4
}
