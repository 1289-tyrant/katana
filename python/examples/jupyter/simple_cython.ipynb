{
 "cells": [
  {
   "cell_type": "code",
   "execution_count": 2,
   "metadata": {},
   "outputs": [],
   "source": [
    "%load_ext cython"
   ]
  },
  {
   "cell_type": "code",
   "execution_count": 3,
   "metadata": {},
   "outputs": [],
   "source": [
    "from galois.shmem import *\n",
    "from galois.graphs import *"
   ]
  },
  {
   "cell_type": "code",
   "execution_count": 4,
   "metadata": {},
   "outputs": [
    {
     "data": {
      "text/plain": [
       "16"
      ]
     },
     "execution_count": 4,
     "metadata": {},
     "output_type": "execute_result"
    }
   ],
   "source": [
    "setActiveThreads(16)"
   ]
  },
  {
   "cell_type": "markdown",
   "metadata": {},
   "source": [
    "## Load some graph data"
   ]
  },
  {
   "cell_type": "code",
   "execution_count": 5,
   "metadata": {},
   "outputs": [
    {
     "name": "stdout",
     "output_type": "stream",
     "text": [
      "<galois.graphs.LC_CSR_Graph_Directed_uint32_t_void object at 0x7ffa2efaa6f0> 7414866\n"
     ]
    }
   ],
   "source": [
    "g = LC_CSR_Graph_Directed_primitive[\"uint32_t\", \"void\"]() \n",
    "# g.readGraphFromGRFile(\"../katana-build/inputs/reference/structured/rome99.cgr\")\n",
    "g.readGraphFromGRFile(\"/home/amp/Downloads/indochina-2004.csgr\")\n",
    "print(g, len(g))"
   ]
  },
  {
   "cell_type": "markdown",
   "metadata": {},
   "source": [
    "## Run an extremely simple do_all parallel loop"
   ]
  },
  {
   "cell_type": "code",
   "execution_count": 6,
   "metadata": {},
   "outputs": [],
   "source": [
    "%%cython\n",
    "# distutils: extra_link_args=[\"-lgalois_shmem\"]\n",
    "\n",
    "from galois.graphs cimport *\n",
    "\n",
    "cdef void operator(LC_CSR_Graph[uint32_t, void, dummy_true] *g, \n",
    "              LC_CSR_Graph[uint32_t, void, dummy_true].GraphNode n) nogil:\n",
    "    d = &g.getData(n)\n",
    "    d[0] = <uint32_t>n*<uint32_t>n\n",
    "\n",
    "def algo(LC_CSR_Graph_Directed_uint32_t_void graph):\n",
    "    g = &graph.underlying\n",
    "    with nogil:\n",
    "        do_all(iterate(g.begin(), g.end()), bind_leading(operator, g))"
   ]
  },
  {
   "cell_type": "code",
   "execution_count": 7,
   "metadata": {},
   "outputs": [
    {
     "name": "stdout",
     "output_type": "stream",
     "text": [
      "[0, 1, 4, 9, 16, 25, 36, 49, 64, 81, 100, 121, 144, 169, 196, 225, 256, 289, 324, 361]\n"
     ]
    }
   ],
   "source": [
    "algo(g)\n",
    "print([g.getData(i) for i in range(20)])"
   ]
  }
 ],
 "metadata": {
  "kernelspec": {
   "display_name": "Python 3",
   "language": "python",
   "name": "python3"
  },
  "language_info": {
   "codemirror_mode": {
    "name": "ipython",
    "version": 3
   },
   "file_extension": ".py",
   "mimetype": "text/x-python",
   "name": "python",
   "nbconvert_exporter": "python",
   "pygments_lexer": "ipython3",
   "version": "3.7.5"
  }
 },
 "nbformat": 4,
 "nbformat_minor": 4
}
