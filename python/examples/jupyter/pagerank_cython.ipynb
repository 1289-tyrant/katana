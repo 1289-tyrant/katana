{
 "cells": [
  {
   "cell_type": "code",
   "execution_count": 1,
   "metadata": {},
   "outputs": [],
   "source": [
    "%load_ext cython"
   ]
  },
  {
   "cell_type": "code",
   "execution_count": 2,
   "metadata": {},
   "outputs": [],
   "source": [
    "from galois.shmem import *\n",
    "from galois.graphs import *"
   ]
  },
  {
   "cell_type": "code",
   "execution_count": 3,
   "metadata": {},
   "outputs": [
    {
     "name": "stdout",
     "output_type": "stream",
     "text": [
      "16\n"
     ]
    }
   ],
   "source": [
    "print(setActiveThreads(16))"
   ]
  },
  {
   "cell_type": "code",
   "execution_count": 4,
   "metadata": {},
   "outputs": [],
   "source": [
    "%%cython\n",
    "# distutils: extra_link_args=[\"-lgalois_shmem\"]\n",
    "from galois.shmem cimport *\n",
    "from galois.shmem import *\n",
    "from cython.operator cimport preincrement, dereference as deref\n",
    "\n",
    "ctypedef atomic[uint32_t] atomuint32_t\n",
    "ctypedef atomic[uint64_t] atomuint64_t\n",
    "##############################################################################\n",
    "## Pagerank implementation\n",
    "###############################################################################\n",
    "#\n",
    "# Struct for Pagerank\n",
    "#\n",
    "cdef struct NodeTy:\n",
    "    float rank\n",
    "    uint32_t nout\n",
    "\n",
    "ctypedef LC_CSR_Graph[NodeTy, void, dummy_true] Graph\n",
    "\n",
    "# Cython bug: using a nested class from a previous typedef doesn't\n",
    "# work for the time being. Instead, the full template specialization\n",
    "# must be used to get the member type.\n",
    "ctypedef LC_CSR_Graph[NodeTy, void, dummy_true].GraphNode GNode\n",
    "\n",
    "#\n",
    "# Constants for Pagerank\n",
    "#\n",
    "cdef float ALPHA = 0.85\n",
    "cdef float INIT_RESIDUAL = 1 - ALPHA;\n",
    "cdef float TOLERANCE   = 1.0e-3;\n",
    "cdef uint32_t MAX_ITER = 1000;\n",
    "\n",
    "#\n",
    "# Initialization for Pagerank\n",
    "#\n",
    "cdef void InitializePR(Graph *g):\n",
    "    cdef unsigned long numNodes = g[0].size()\n",
    "    cdef NodeTy *data\n",
    "    gPrint(b\"Number of nodes : \", numNodes, b\"\\n\")\n",
    "    for n in range(numNodes):\n",
    "        #gPrint(n,\"\\n\")\n",
    "        data = &g[0].getData(n)\n",
    "        data[0].rank = INIT_RESIDUAL\n",
    "        data[0].nout = 0\n",
    "\n",
    "#\n",
    "# Operator for computing outdegree of nodes in the Graph\n",
    "#\n",
    "cdef void computeOutDeg_operator(Graph *g, LargeArray[atomuint64_t] *largeArray, GNode n) nogil:\n",
    "    cdef:\n",
    "        GNode dst\n",
    "\n",
    "    edges = g.edges(n)\n",
    "    for ii in edges:\n",
    "        dst = g.getEdgeDst(ii)\n",
    "        largeArray[0][<size_t>dst].fetch_add(1)\n",
    "\n",
    "#\n",
    "# Operator for assigning outdegree of nodes in the Graph\n",
    "#\n",
    "cdef void assignOutDeg_operator(Graph *g, LargeArray[atomuint64_t] *largeArray, GNode n) nogil:\n",
    "    cdef NodeTy *src_data\n",
    "\n",
    "    src_data = &g.getData(n)\n",
    "    src_data.nout = largeArray[0][<size_t>n].load()\n",
    "\n",
    "#\n",
    "# Main callsite for computing outdegree of nodes in the Graph\n",
    "#\n",
    "cdef void computeOutDeg(Graph *graph):\n",
    "    cdef:\n",
    "        uint64_t numNodes = graph[0].size()\n",
    "        LargeArray[atomuint64_t] largeArray\n",
    "\n",
    "    largeArray.allocateInterleaved(numNodes)\n",
    "    with nogil:\n",
    "        do_all(iterate(graph.begin(), graph.end()),\n",
    "                        bind_leading(&computeOutDeg_operator, graph, &largeArray), steal(),\n",
    "                        loopname(\"ComputeDegree\"))\n",
    "\n",
    "        do_all(iterate(graph.begin(), graph.end()),\n",
    "                        bind_leading(&assignOutDeg_operator, graph, &largeArray))\n",
    "\n",
    "\n",
    "#\n",
    "# Operator for PageRank\n",
    "#\n",
    "cdef void pagerankPullTopo_operator(Graph *g, GReduceMax[float] *max_delta, GNode n) nogil:\n",
    "    cdef:\n",
    "        GNode dst\n",
    "        NodeTy *dst_data\n",
    "        NodeTy *src_data\n",
    "        float sum = 0\n",
    "        float value = 0\n",
    "        float diff = 0;\n",
    "    src_data = &g.getData(n)\n",
    "    edges = g.edges(n, FLAG_UNPROTECTED)\n",
    "    for ii in edges:\n",
    "        dst_data = &g.getData(g.getEdgeDst(ii), FLAG_UNPROTECTED)\n",
    "        sum += dst_data[0].rank / dst_data[0].nout\n",
    "    value = sum * ALPHA + (1.0 - ALPHA)\n",
    "    diff = fabs(value - src_data[0].rank);\n",
    "    src_data[0].rank = value\n",
    "    max_delta[0].update(diff)\n",
    "\n",
    "#\n",
    "# Pagerank routine: Loop till convergence\n",
    "#\n",
    "cdef void pagerankPullTopo(Graph *graph, uint32_t max_iterations):\n",
    "    cdef:\n",
    "        GReduceMax[float] max_delta\n",
    "        float delta = 0\n",
    "        uint32_t iteration = 0\n",
    "        Timer T\n",
    "\n",
    "    T.start()\n",
    "    while(1):\n",
    "        with nogil:\n",
    "            do_all(iterate(graph.begin(), graph.end()),\n",
    "                        bind_leading(&pagerankPullTopo_operator, graph, &max_delta), steal(),\n",
    "                        loopname(\"PageRank\"))\n",
    "\n",
    "        delta = max_delta.reduce()\n",
    "        iteration += 1\n",
    "        if(delta <= TOLERANCE or iteration >= max_iterations):\n",
    "            break\n",
    "        max_delta.reset();\n",
    "\n",
    "    T.stop()\n",
    "    print(\"Elapsed time:\", T.get(), \" milliseconds.\")\n",
    "    if(iteration >= max_iterations):\n",
    "        print(\"WARNING : failed to converge in \", iteration, \" iterations\")\n",
    "\n",
    "\n",
    "#\n",
    "# Main callsite for Pagerank\n",
    "#\n",
    "def pagerank(uint32_t max_iterations, filename):\n",
    "    cdef Graph graph\n",
    "\n",
    "    ## Read the CSR format of graph\n",
    "    ## directly from disk.\n",
    "    graph.readGraphFromGRFile(bytes(filename, \"utf-8\"))\n",
    "\n",
    "    InitializePR(&graph)\n",
    "    computeOutDeg(&graph)\n",
    "    pagerankPullTopo(&graph, max_iterations)\n",
    "    #printValuePR(&graph)\n",
    "    return [graph.getData(i).rank for i in range(graph.size())]"
   ]
  },
  {
   "cell_type": "code",
   "execution_count": 5,
   "metadata": {},
   "outputs": [
    {
     "name": "stdout",
     "output_type": "stream",
     "text": [
      "Elapsed time: 618  milliseconds.\n",
      "WARNING : failed to converge in  10  iterations\n"
     ]
    }
   ],
   "source": [
    "results = pagerank(10, \"/home/amp/Downloads/indochina-2004.csgr\")"
   ]
  },
  {
   "cell_type": "code",
   "execution_count": 6,
   "metadata": {},
   "outputs": [
    {
     "name": "stdout",
     "output_type": "stream",
     "text": [
      "[1.446841835975647, 0.3037269115447998, 0.6015442609786987, 0.4101789593696594, 0.6832333207130432, 0.45934468507766724, 0.42385345697402954, 0.9236875772476196, 0.37441474199295044, 5.855180740356445] 7414866\n"
     ]
    }
   ],
   "source": [
    "print(results[:10], len(results))"
   ]
  }
 ],
 "metadata": {
  "kernelspec": {
   "display_name": "Python 3",
   "language": "python",
   "name": "python3"
  },
  "language_info": {
   "codemirror_mode": {
    "name": "ipython",
    "version": 3
   },
   "file_extension": ".py",
   "mimetype": "text/x-python",
   "name": "python",
   "nbconvert_exporter": "python",
   "pygments_lexer": "ipython3",
   "version": "3.7.5"
  }
 },
 "nbformat": 4,
 "nbformat_minor": 4
}
